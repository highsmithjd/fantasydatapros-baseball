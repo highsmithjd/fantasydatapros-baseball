{
  "nbformat": 4,
  "nbformat_minor": 0,
  "metadata": {
    "colab": {
      "provenance": [],
      "authorship_tag": "ABX9TyOwVpJJ5BriJ2Z2wEY08HHZ",
      "include_colab_link": true
    },
    "kernelspec": {
      "name": "python3",
      "display_name": "Python 3"
    },
    "language_info": {
      "name": "python"
    }
  },
  "cells": [
    {
      "cell_type": "markdown",
      "metadata": {
        "id": "view-in-github",
        "colab_type": "text"
      },
      "source": [
        "<a href=\"https://colab.research.google.com/github/highsmithjd/fantasydatapros-baseball/blob/main/section1.ipynb\" target=\"_parent\"><img src=\"https://colab.research.google.com/assets/colab-badge.svg\" alt=\"Open In Colab\"/></a>"
      ]
    },
    {
      "cell_type": "code",
      "execution_count": null,
      "metadata": {
        "id": "gVF-wjNwZEIz",
        "colab": {
          "base_uri": "https://localhost:8080/"
        },
        "outputId": "f0c1011f-368e-4c5f-a543-4d80b0f028d0"
      },
      "outputs": [
        {
          "output_type": "stream",
          "name": "stdout",
          "text": [
            "In 2021:\n",
            "Juan Soto had a batting average of 0.313\n",
            "Mookie Betts had a batting average of 0.264\n",
            "Freddie Freeman had a batting average of 0.3\n"
          ]
        }
      ],
      "source": [
        "#Official player stats for 2021\n",
        "\n",
        "players = [{\n",
        "   'name': 'Juan Soto',\n",
        "   'hits': 157,\n",
        "   'at_bats': 502\n",
        "   },\n",
        "   {\n",
        "   'name': 'Mookie Betts',\n",
        "   'hits': 123,\n",
        "   'at_bats': 466\n",
        "   },\n",
        "   {\n",
        "   'name': 'Freddie Freeman',\n",
        "   'hits': 180,\n",
        "   'at_bats': 600\n",
        "   },\n",
        "]\n",
        "\n",
        "print('In 2021:')\n",
        "\n",
        "for player in players:\n",
        "    name = player[\"name\"]\n",
        "    hits = player[\"hits\"]\n",
        "    at_bats = player[\"at_bats\"]\n",
        "    batting_average = round(hits/at_bats, 3)\n",
        "    print(name + ' had a batting average of ' + str(batting_average))"
      ]
    }
  ]
}